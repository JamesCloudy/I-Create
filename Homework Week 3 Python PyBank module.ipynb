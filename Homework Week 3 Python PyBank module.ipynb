{
 "cells": [
  {
   "cell_type": "code",
   "execution_count": 1,
   "metadata": {},
   "outputs": [
    {
     "ename": "SyntaxError",
     "evalue": "unexpected EOF while parsing (<ipython-input-1-bf372f81470c>, line 44)",
     "output_type": "error",
     "traceback": [
      "\u001b[1;36m  File \u001b[1;32m\"<ipython-input-1-bf372f81470c>\"\u001b[1;36m, line \u001b[1;32m44\u001b[0m\n\u001b[1;33m    #row_count = sum(1 for row in csv.reader( open(csvPath') ) )\u001b[0m\n\u001b[1;37m                                                                ^\u001b[0m\n\u001b[1;31mSyntaxError\u001b[0m\u001b[1;31m:\u001b[0m unexpected EOF while parsing\n"
     ]
    }
   ],
   "source": [
    "import os\n",
    "import csv\n",
    "\n",
    "with open(os.path.join(\"PyBank\", \"budget_data.csv\"), 'r') as csvfile:\n",
    "    readCSV = csv.reader(csvfile, delimiter=',')\n",
    "    row_count = sum(1 for row in csv.reader(csvfile))\n",
    "    MonthCount = row_count - 1\n",
    "    print(\"Financial Analysis\")\n",
    "    print(\"----------------------------\")\n",
    "    print(\"Total Months: \" + str(MonthCount))\n",
    "\n",
    "    total = 0\n",
    "    for row in readCSV:\n",
    "        if float(row[2]) > -1172390:\n",
    "            total += float(row[2])\n",
    "    print(\"Total: {}\".format(total))\n",
    "    \n",
    "    print(\"Average Change: \" + (float(total)/str(MonthCount))\n",
    "        \n",
    "    \n",
    "    \n",
    "\n",
    "\n"
   ]
  },
  {
   "cell_type": "code",
   "execution_count": null,
   "metadata": {},
   "outputs": [],
   "source": [
    "   "
   ]
  }
 ],
 "metadata": {
  "kernelspec": {
   "display_name": "Python 3",
   "language": "python",
   "name": "python3"
  },
  "language_info": {
   "codemirror_mode": {
    "name": "ipython",
    "version": 3
   },
   "file_extension": ".py",
   "mimetype": "text/x-python",
   "name": "python",
   "nbconvert_exporter": "python",
   "pygments_lexer": "ipython3",
   "version": "3.6.5"
  }
 },
 "nbformat": 4,
 "nbformat_minor": 2
}
