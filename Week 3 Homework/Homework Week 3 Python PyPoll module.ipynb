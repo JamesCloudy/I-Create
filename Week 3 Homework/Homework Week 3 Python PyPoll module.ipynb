{
 "cells": [
  {
   "cell_type": "code",
   "execution_count": 1,
   "metadata": {},
   "outputs": [
    {
     "name": "stdout",
     "output_type": "stream",
     "text": [
      "Election Results\n",
      "----------------------------\n",
      "Total Votes: 3521001\n",
      "----------------------------\n"
     ]
    }
   ],
   "source": [
    "import os\n",
    "import csv\n",
    "\n",
    "electionPath = os.path.join(\"PyPoll\",\"election_data.csv\")\n",
    "\n",
    "totalVotes = 0\n",
    "\n",
    "#read the csv\n",
    "with open(electionPath) as pollData:\n",
    "   csvreader = csv.reader(pollData)\n",
    "   header = next(csvreader)\n",
    "   for rows in csvreader:\n",
    "       totalVotes = totalVotes + 1\n",
    "        \n",
    "print(\"Election Results\")\n",
    "print (\"----------------------------\")\n",
    "print(\"Total Votes: \" + str(totalVotes))\n",
    "print (\"----------------------------\")\n"
   ]
  }
 ],
 "metadata": {
  "kernelspec": {
   "display_name": "Python 3",
   "language": "python",
   "name": "python3"
  },
  "language_info": {
   "codemirror_mode": {
    "name": "ipython",
    "version": 3
   },
   "file_extension": ".py",
   "mimetype": "text/x-python",
   "name": "python",
   "nbconvert_exporter": "python",
   "pygments_lexer": "ipython3",
   "version": "3.6.5"
  }
 },
 "nbformat": 4,
 "nbformat_minor": 2
}
