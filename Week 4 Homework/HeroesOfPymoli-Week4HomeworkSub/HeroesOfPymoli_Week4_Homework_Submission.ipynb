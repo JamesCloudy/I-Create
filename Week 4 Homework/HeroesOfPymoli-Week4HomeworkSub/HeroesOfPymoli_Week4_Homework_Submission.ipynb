{
 "cells": [
  {
   "cell_type": "code",
   "execution_count": 1,
   "metadata": {
    "scrolled": true
   },
   "outputs": [
    {
     "ename": "SyntaxError",
     "evalue": "invalid syntax (<ipython-input-1-9b200f7ae17d>, line 91)",
     "output_type": "error",
     "traceback": [
      "\u001b[1;36m  File \u001b[1;32m\"<ipython-input-1-9b200f7ae17d>\"\u001b[1;36m, line \u001b[1;32m91\u001b[0m\n\u001b[1;33m    %%writefile HeroesOfPymoli_Week4_Homework_Submission.py\u001b[0m\n\u001b[1;37m    ^\u001b[0m\n\u001b[1;31mSyntaxError\u001b[0m\u001b[1;31m:\u001b[0m invalid syntax\n"
     ]
    }
   ],
   "source": [
    "# Dependencies and Setup\n",
    "import pandas as pd\n",
    "import numpy as np\n",
    "\n",
    "# Raw data file\n",
    "file_to_load = \"Resources/purchase_data.csv\"\n",
    "\n",
    "# Read purchasing file and store into pandas data frame\n",
    "purchData = pd.read_csv(file_to_load)\n",
    "purchData.head()\n",
    "\n",
    "#Pull player list \"SN\" using .loc\n",
    "playerList = purchData.loc[:, [\"SN\"]]\n",
    "#Use .nunique to get a count of unique players from \"SN\"\n",
    "uniquePlayer = playerList[\"SN\"].nunique()\n",
    "#Use .DataFrame to print the output and to set column header\n",
    "pd.DataFrame({\"Total Players\": [uniquePlayer]})\n",
    "\n",
    "#use .unique to get a count of unique items on \"Item Name\"\n",
    "NumberPurchased = len(purchData[\"Item ID\"].unique())\n",
    "#get average price using .mean\n",
    "AvgItemPrice = purchData[\"Price\"].mean()\n",
    "#AvgItemPrice[\"Price\"] = AvgItemPrice[\"Price\"].map('${:,.2f}'.format)\n",
    "#use .count to determine the number of purchases\n",
    "PurchaseCount = purchData[\"Price\"].count()\n",
    "#use .sum to get total revenue\n",
    "TotalRevenue = purchData[\"Price\"].sum()\n",
    "\n",
    "\n",
    "#create summary table to incorperate the calculations into a single table\n",
    "SummaryTable = pd.DataFrame({\"Number of Unique Items\": [NumberPurchased],\n",
    "                             \"Average Price\": [AvgItemPrice],\n",
    "                             \"Number of Purchases\": [PurchaseCount],\n",
    "                             \"Total Revenue\": [TotalRevenue]})\n",
    "#use .round() on the DataFrame to limit to 2 decimal places\n",
    "SummaryTable = SummaryTable.round(2)\n",
    "\n",
    "SummaryTable\n",
    "\n",
    "#Get gender data from column \"Gender\" using .loc\n",
    "GenderList = purchData.loc[:, [\"Gender\"]]\n",
    "#Use values_count to get the count on the different strings in GenderList\n",
    "GenderTotals = GenderList[\"Gender\"].value_counts()\n",
    "#Calulcate Percent\n",
    "GenderPercent = GenderTotals / uniquePlayer * 100\n",
    "#Generate new DataFrame to add column headers\n",
    "GenderTableOutput = pd.DataFrame({\"Percentage of Players\": GenderPercent, \"Total Count\": GenderTotals})\n",
    "#use .round() on the DataFrame to limit to 2 decimal places\n",
    "GenderTableOutput = GenderTableOutput.round(2)\n",
    "\n",
    "GenderTableOutput\n",
    "\n",
    "#use .groupby .mean to determine the number of purchases by Gender\n",
    "GenPurchaseCount = purchData.groupby([\"Gender\"]).count()[\"Price\"].rename(\"Purchase Count\")\n",
    "#use .groupby .mean to determine the average purchase price by Gender\n",
    "GenAvgPurchasePrice = purchData.groupby([\"Gender\"]).mean()[\"Price\"].rename(\"Average Purchase Price\")\n",
    "#use .groupby .sum to get total value by Gender\n",
    "GenPurchaseValue = purchData.groupby([\"Gender\"]).sum()[\"Price\"].rename(\"Total Purchase Value\")\n",
    "#divide the GenPurchseValue by the total count GenderTableOutput dataframe to get the average purchase per person\n",
    "AvgPurchasePPerson = GenPurchaseValue / GenderTableOutput[\"Total Count\"]\n",
    "\n",
    "AvgPurchasePPerson\n",
    "\n",
    "#Put it all into a DataFrame\n",
    "GenGroups = pd.DataFrame({\"Purchase Count\": GenPurchaseCount, \"Average Purchase Price\": GenAvgPurchasePrice, \"Total Purchase Value\": GenPurchaseValue, \"Avg Purchase Total per Person\": AvgPurchasePPerson})\n",
    "#use .round() on the DataFrame to limit to 2 decimal places\n",
    "GenGroups = GenGroups.round(2)\n",
    "\n",
    "GenGroups\n",
    "\n",
    "# Establish bins for ages\n",
    "age_bins = [0, 9.90, 14.90, 19.90, 24.90, 29.90, 34.90, 39.90, 99999]\n",
    "group_names = [\"<10\", \"10-14\", \"15-19\", \"20-24\", \"25-29\", \"30-34\", \"35-39\", \"40+\"]\n",
    "\n",
    "\n",
    "#Get age data from column \"Age\" using .loc\n",
    "AgeList = purchData.loc[:, [\"Age\"]]\n",
    "#Group players using the age bins\n",
    "AgeList[\"Age Ranges\"] = pd.cut(AgeList[\"Age\"], age_bins, labels=group_names)\n",
    "\n",
    "#use .value_counts to get the counts for the age bins\n",
    "PlayerAgeRange = AgeList[\"Age Ranges\"].value_counts()\n",
    "#divide the PlayerAgeRange against uniquePlayers to get the percent\n",
    "AgePercent = PlayerAgeRange / uniquePlayer * 100\n",
    "AgeTable = pd.DataFrame({\"Total Count\": PlayerAgeRange, \"Percentage of Players\": AgePercent})\n",
    "#use .round() on the DataFrame to limit to 2 decimal places\n",
    "AgeTable = AgeTable.round(2)\n",
    "\n",
    "AgeTable.sort_index()\n",
    "\n",
    "%%writefile HeroesOfPymoli_Week4_Homework_Submission.py"
   ]
  }
 ],
 "metadata": {
  "anaconda-cloud": {},
  "kernel_info": {
   "name": "python3"
  },
  "kernelspec": {
   "display_name": "Python 3",
   "language": "python",
   "name": "python3"
  },
  "language_info": {
   "codemirror_mode": {
    "name": "ipython",
    "version": 3
   },
   "file_extension": ".py",
   "mimetype": "text/x-python",
   "name": "python",
   "nbconvert_exporter": "python",
   "pygments_lexer": "ipython3",
   "version": "3.6.5"
  },
  "nteract": {
   "version": "0.8.4"
  }
 },
 "nbformat": 4,
 "nbformat_minor": 1
}
